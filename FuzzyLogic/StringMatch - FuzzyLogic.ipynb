{
 "cells": [
  {
   "cell_type": "code",
   "execution_count": 1,
   "metadata": {},
   "outputs": [],
   "source": [
    "import numpy as np\n",
    "from nltk.corpus import stopwords\n",
    "#nltk.download('stopwords')\n",
    "from nltk.tokenize import word_tokenize"
   ]
  },
  {
   "cell_type": "markdown",
   "metadata": {},
   "source": [
    "### Levenshtein Distance\n",
    "\n",
    "Levenshtein Distance clearly explained in https://www.youtube.com/watch?v=MiqoA-yF-0M. \n",
    "\n",
    "The difference betwen 2 strings are calculated based on number of edit operations needed to change 1 string to other.\n",
    "\n",
    "Posible Edit Operations: 1) remove 2) replace and 3) insert"
   ]
  },
  {
   "cell_type": "code",
   "execution_count": 2,
   "metadata": {},
   "outputs": [],
   "source": [
    "# Base Function\n",
    "\n",
    "# Function calculate Levenshtein Distance between 2 given strings\n",
    "# input: String 1, String 2\n",
    "# output: [no of edits, difference ratio]\n",
    "\n",
    "def check_equality(str1, str2):\n",
    "    rows = len(str1)\n",
    "    cols = len(str2)\n",
    "    \n",
    "    #Create a matrix to hold no. of edits for each character of 2 given strings\n",
    "    distance = np.zeros((rows, cols), dtype=int)\n",
    "    \n",
    "    #Always the first character of both the string are empty, \n",
    "    #so number of edit values in first row and first column will be the index of that particular cell\n",
    "    for i in range(1, rows):\n",
    "        distance[i][0] = i\n",
    "    for j in range(1, cols):\n",
    "        distance[0][j] = j\n",
    "    \n",
    "    #Interate over all the character in the position of matrices, to compute the cost of edit operations\n",
    "    for i in range(1, rows):\n",
    "        for j in range(1, cols):\n",
    "            ch1 = str1[i-1]\n",
    "            ch2 = str2[j-1]\n",
    "            if ch1 == ch2:\n",
    "                cost = 0\n",
    "            else:\n",
    "                cost = 1\n",
    "            #get the edit cost of the previous edits around this cell\n",
    "            cost1 = distance[i][j-1]\n",
    "            cost2 = distance[i-1][j-1]\n",
    "            cost3 = distance[i-1][j]\n",
    "            distance[i][j] = min(cost1, cost2, cost3)+cost\n",
    "            \n",
    "    #No of edits\n",
    "    no_of_edits = distance[rows-1][cols-1]\n",
    "    #Ratio of change\n",
    "    total_len = rows+cols\n",
    "    ratio = round((total_len-no_of_edits)*100/total_len, 2)\n",
    "\n",
    "    return [no_of_edits, ratio]"
   ]
  },
  {
   "cell_type": "code",
   "execution_count": 3,
   "metadata": {
    "scrolled": true
   },
   "outputs": [
    {
     "name": "stdout",
     "output_type": "stream",
     "text": [
      "The strings are 1 edits away\n",
      "The string's equality is 98.00%\n"
     ]
    }
   ],
   "source": [
    "[no_of_edits, ratio] = check_equality('Silvester Stalin Bruno Jr','Silvester Stalin Bruno Sr')\n",
    "print('The strings are {} edits away'.format(no_of_edits))\n",
    "print('The string\\'s equality is {:.2f}%'.format(ratio))"
   ]
  },
  {
   "cell_type": "code",
   "execution_count": 3,
   "metadata": {},
   "outputs": [],
   "source": [
    "# Function check a string's partial presence in another string\n",
    "# input: String 1 (bigger), String 2 (substring)\n",
    "# output: [no of edits, difference ratio, matched string]\n",
    "\n",
    "def check_partial_equality(fullstr, substr):\n",
    "    len1 = len(fullstr)\n",
    "    len2 = len(substr)\n",
    "    \n",
    "    #initialize output\n",
    "    out_ratio = 0    \n",
    "    out_match_str = ''\n",
    "    out_no_of_edits = 0\n",
    "    \n",
    "    #Get a piece of string from main string of substr's length\n",
    "    for i in range(0, len1):\n",
    "        if (i+len2) <= len1:            \n",
    "            str1 = fullstr[i:i+len2]\n",
    "            str2 = substr\n",
    "            [no_of_edits, ratio] = check_equality(str1, str2)\n",
    "            if (ratio == 100):\n",
    "                out_ratio = ratio\n",
    "                out_match_str = str1                \n",
    "                break\n",
    "            elif (ratio > out_ratio):\n",
    "                out_ratio = ratio\n",
    "                out_match_str = str1\n",
    "                out_no_of_edits = no_of_edits\n",
    "    \n",
    "    return [no_of_edits, ratio, out_match_str]"
   ]
  },
  {
   "cell_type": "code",
   "execution_count": 63,
   "metadata": {},
   "outputs": [
    {
     "name": "stdout",
     "output_type": "stream",
     "text": [
      "The string's equality is 75.00% for  Iruthaiyar\n"
     ]
    }
   ],
   "source": [
    "[no_of_edits, ratio, match_str] = check_partial_equality('Silvester Stalin Bruno Iruthaiyaraj' , 'Irudayaraj')\n",
    "print('The string\\'s equality is {:.2f}%'.format(ratio), 'for ',match_str)"
   ]
  },
  {
   "cell_type": "code",
   "execution_count": 4,
   "metadata": {},
   "outputs": [],
   "source": [
    "# Function check 2 strings' equality by tokenizing\n",
    "# input: String 1, String 2\n",
    "# output: [difference ratio]\n",
    "\n",
    "def check_token_full_equality(str1, str2):\n",
    "    token1 = str1.split(' ')\n",
    "    token2 = str2.split(' ')   \n",
    "    len1 = len(token1)\n",
    "    len2 = len(token2)\n",
    "    \n",
    "    if len1 > len2:\n",
    "         token2 = token2 + [' ' for w in range(len1-len2)]\n",
    "    elif len2 > len1:\n",
    "        token1 = token1 + [' ' for w in range(len2-len1)]\n",
    "    \n",
    "    size = len(token1)\n",
    "    total_edits = [0 for i in range(size)]\n",
    "    out_ratio = 0\n",
    "    \n",
    "    for i in range(0, size):\n",
    "        for j in range(0, size):\n",
    "            [no_of_edits, ratio] = check_equality(token1[i], token2[j])\n",
    "            if (ratio == 100):\n",
    "                total_edits[i] = no_of_edits                \n",
    "                break\n",
    "            elif (ratio > out_ratio):\n",
    "                out_ratio = ratio\n",
    "                total_edits[i] = no_of_edits\n",
    "    \n",
    "    output_ratio = round((len(str1)+len(str2)-sum(total_edits))*100/(len(str1)+len(str2)),2)\n",
    "    return output_ratio"
   ]
  },
  {
   "cell_type": "code",
   "execution_count": 65,
   "metadata": {},
   "outputs": [
    {
     "data": {
      "text/plain": [
       "95.59"
      ]
     },
     "execution_count": 65,
     "metadata": {},
     "output_type": "execute_result"
    }
   ],
   "source": [
    " check_token_full_equality('Silvester Stalin Bruno Iruthaiyaraj' , 'Silvester Bruno Stalin Irudayaraj')"
   ]
  },
  {
   "cell_type": "code",
   "execution_count": 5,
   "metadata": {},
   "outputs": [],
   "source": [
    "# Utility Functions\n",
    "# 1. Remove special characters\n",
    "def remove_spl_chars(word):\n",
    "    spl_chars = [';', ':', '!', \"*\", '.', ',', '$', '#', '%', '&', '?']\n",
    "    for w in spl_chars:\n",
    "        word = word.replace(w, '')\n",
    "    return word\n",
    "\n",
    "# 2. Remove stop words and return the tokens\n",
    "def get_tokens(datastr):\n",
    "    stop_words = set(stopwords.words('english'))\n",
    "    word_tokens = word_tokenize(datastr)\n",
    "    tokens = [w for w in word_tokens if not w in stop_words]\n",
    "    return tokens"
   ]
  },
  {
   "cell_type": "code",
   "execution_count": 15,
   "metadata": {},
   "outputs": [],
   "source": [
    "# Function check string 1's presence in another string by tokenizing\n",
    "# input: String 1 (bigger), String 2 (substring)\n",
    "# output: [no of edits, difference ratio, matched string]\n",
    "\n",
    "def check_token_presence(fullstr, substr):\n",
    "    len1 = len(fullstr)\n",
    "    len2 = len(substr)\n",
    "    \n",
    "    #Data Cleanup - Converts to lowercase, removes spl chars, remove stopwords and tokenizing\n",
    "    fullstr = remove_spl_chars(fullstr.lower())\n",
    "    substr = remove_spl_chars(substr.lower())\n",
    "\n",
    "    token1 = get_tokens(fullstr)\n",
    "    token2 = get_tokens(substr)\n",
    "    total_edits = [0 for i in range(len(substr))]\n",
    "    out_ratio = 0\n",
    "    \n",
    "    for i in range(0, len(token2)):\n",
    "        for j in range(0, len(token1)):\n",
    "            [no_of_edits, ratio] = check_equality(token1[j], token2[i])\n",
    "            if (ratio == 100):\n",
    "                total_edits[i] = no_of_edits                \n",
    "                break\n",
    "            elif (ratio > out_ratio):\n",
    "                out_ratio = ratio\n",
    "                total_edits[i] = no_of_edits\n",
    "            \n",
    "    output_ratio = round((len2-sum(total_edits))*100/len2,2)\n",
    "    return output_ratio"
   ]
  },
  {
   "cell_type": "code",
   "execution_count": 20,
   "metadata": {},
   "outputs": [
    {
     "data": {
      "text/plain": [
       "100.0"
      ]
     },
     "execution_count": 20,
     "metadata": {},
     "output_type": "execute_result"
    }
   ],
   "source": [
    "check_token_presence('I am Silvester Stalin Bruno. I work in RBS India as Tech Lead for 4 years','Tech Lead')"
   ]
  },
  {
   "cell_type": "code",
   "execution_count": 27,
   "metadata": {},
   "outputs": [
    {
     "data": {
      "text/plain": [
       "[100.0, 66.67, 100.0]"
      ]
     },
     "execution_count": 27,
     "metadata": {},
     "output_type": "execute_result"
    }
   ],
   "source": [
    "str1 = 'The NLTK library is one of the oldest and most commonly used Python libraries for Natural Language Processing. NLTK supports stop word removal, and you can find the list of stop words in the corpus module. To remove stop words from a sentence, you can divide your text into words and then remove the word if it exits in the list of stop words provided by NLTK'\n",
    "list_of_keywords = ['Natural Language Processing','NLP','NLTK']\n",
    "out_ratio = [0 for i in list_of_keywords]\n",
    "for k in range(0,len(out_ratio)):\n",
    "    out_ratio[k] = check_token_presence(str1,list_of_keywords[k])\n",
    "out_ratio"
   ]
  },
  {
   "cell_type": "code",
   "execution_count": null,
   "metadata": {},
   "outputs": [],
   "source": []
  }
 ],
 "metadata": {
  "kernelspec": {
   "display_name": "Python 3",
   "language": "python",
   "name": "python3"
  },
  "language_info": {
   "codemirror_mode": {
    "name": "ipython",
    "version": 3
   },
   "file_extension": ".py",
   "mimetype": "text/x-python",
   "name": "python",
   "nbconvert_exporter": "python",
   "pygments_lexer": "ipython3",
   "version": "3.6.5"
  }
 },
 "nbformat": 4,
 "nbformat_minor": 2
}
